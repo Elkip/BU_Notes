{
 "cells": [
  {
   "cell_type": "markdown",
   "id": "a2fbe2e9",
   "metadata": {},
   "source": [
    "# HW6 BS803 - Python\n",
    "#### Mitchell Henschel\n",
    "\n",
    "### 1. Generate a list of...\n",
    "#### a. Numbers 1 thru 20"
   ]
  },
  {
   "cell_type": "code",
   "execution_count": 1,
   "id": "d059def9",
   "metadata": {},
   "outputs": [
    {
     "data": {
      "text/plain": [
       "[1, 2, 3, 4, 5, 6, 7, 8, 9, 10, 11, 12, 13, 14, 15, 16, 17, 18, 19, 20]"
      ]
     },
     "execution_count": 1,
     "metadata": {},
     "output_type": "execute_result"
    }
   ],
   "source": [
    "a = list(range(1,21))\n",
    "a"
   ]
  },
  {
   "cell_type": "markdown",
   "id": "54f4d359",
   "metadata": {},
   "source": [
    "#### b. Numbers 20 thru"
   ]
  },
  {
   "cell_type": "code",
   "execution_count": 2,
   "id": "0685c5a4",
   "metadata": {},
   "outputs": [
    {
     "data": {
      "text/plain": [
       "[20, 19, 18, 17, 16, 15, 14, 13, 12, 11, 10, 9, 8, 7, 6, 5, 4, 3, 2, 1]"
      ]
     },
     "execution_count": 2,
     "metadata": {},
     "output_type": "execute_result"
    }
   ],
   "source": [
    "b = list(range(1,21))\n",
    "b.reverse()\n",
    "b"
   ]
  },
  {
   "cell_type": "markdown",
   "id": "c8b1e6f1",
   "metadata": {},
   "source": [
    "#### c. Numbers 1 thru 20 then back down to 1"
   ]
  },
  {
   "cell_type": "code",
   "execution_count": 3,
   "id": "6f9164fb",
   "metadata": {},
   "outputs": [
    {
     "data": {
      "text/plain": [
       "[1,\n",
       " 2,\n",
       " 3,\n",
       " 4,\n",
       " 5,\n",
       " 6,\n",
       " 7,\n",
       " 8,\n",
       " 9,\n",
       " 10,\n",
       " 11,\n",
       " 12,\n",
       " 13,\n",
       " 14,\n",
       " 15,\n",
       " 16,\n",
       " 17,\n",
       " 18,\n",
       " 19,\n",
       " 1,\n",
       " 2,\n",
       " 3,\n",
       " 4,\n",
       " 5,\n",
       " 6,\n",
       " 7,\n",
       " 8,\n",
       " 9,\n",
       " 10,\n",
       " 11,\n",
       " 12,\n",
       " 13,\n",
       " 14,\n",
       " 15,\n",
       " 16,\n",
       " 17,\n",
       " 18,\n",
       " 19,\n",
       " 20]"
      ]
     },
     "execution_count": 3,
     "metadata": {},
     "output_type": "execute_result"
    }
   ],
   "source": [
    "c = list(range(1,20))\n",
    "c.extend(a)\n",
    "c"
   ]
  },
  {
   "cell_type": "markdown",
   "id": "25dfc63b",
   "metadata": {},
   "source": [
    "#### d. [4,6,3,...,4,6,3] where there are 10 occurances of 4"
   ]
  },
  {
   "cell_type": "code",
   "execution_count": 4,
   "id": "7380d800",
   "metadata": {},
   "outputs": [
    {
     "data": {
      "text/plain": [
       "[4,\n",
       " 6,\n",
       " 3,\n",
       " 4,\n",
       " 6,\n",
       " 3,\n",
       " 4,\n",
       " 6,\n",
       " 3,\n",
       " 4,\n",
       " 6,\n",
       " 3,\n",
       " 4,\n",
       " 6,\n",
       " 3,\n",
       " 4,\n",
       " 6,\n",
       " 3,\n",
       " 4,\n",
       " 6,\n",
       " 3,\n",
       " 4,\n",
       " 6,\n",
       " 3,\n",
       " 4,\n",
       " 6,\n",
       " 3,\n",
       " 4,\n",
       " 6,\n",
       " 3]"
      ]
     },
     "execution_count": 4,
     "metadata": {},
     "output_type": "execute_result"
    }
   ],
   "source": [
    "10 * [4,6,3]"
   ]
  },
  {
   "cell_type": "markdown",
   "id": "e51bae0a",
   "metadata": {},
   "source": [
    "#### e. [4,6,3,...,4,6,3,4] where there are 11 ocurences of 4, and 10 occurences of 6 and 10"
   ]
  },
  {
   "cell_type": "code",
   "execution_count": 5,
   "id": "596d8da0",
   "metadata": {},
   "outputs": [
    {
     "data": {
      "text/plain": [
       "[4,\n",
       " 6,\n",
       " 3,\n",
       " 4,\n",
       " 6,\n",
       " 3,\n",
       " 4,\n",
       " 6,\n",
       " 3,\n",
       " 4,\n",
       " 6,\n",
       " 3,\n",
       " 4,\n",
       " 6,\n",
       " 3,\n",
       " 4,\n",
       " 6,\n",
       " 3,\n",
       " 4,\n",
       " 6,\n",
       " 3,\n",
       " 4,\n",
       " 6,\n",
       " 3,\n",
       " 4,\n",
       " 6,\n",
       " 3,\n",
       " 4,\n",
       " 6,\n",
       " 3,\n",
       " 4]"
      ]
     },
     "execution_count": 5,
     "metadata": {},
     "output_type": "execute_result"
    }
   ],
   "source": [
    "e = list(11 * [4,6,3])\n",
    "del e[len(e) - 2:]\n",
    "e"
   ]
  },
  {
   "cell_type": "markdown",
   "id": "248d6c3a",
   "metadata": {},
   "source": [
    "### 2. Create a list of values of e<sup>x</sup> cos(x) for x=[3, 3.1, 3.2, ... , 6]"
   ]
  },
  {
   "cell_type": "code",
   "execution_count": 6,
   "id": "98d54eec",
   "metadata": {},
   "outputs": [
    {
     "data": {
      "text/plain": [
       "[-19.884530844146987,\n",
       " -22.178753389342127,\n",
       " -24.490696732801293,\n",
       " -26.77318244299339,\n",
       " -28.96923776809358,\n",
       " -31.011186439374526,\n",
       " -32.81977476033852,\n",
       " -34.30336011037369,\n",
       " -35.35719361853037,\n",
       " -35.862833712307676,\n",
       " -35.68773248011913,\n",
       " -34.68504225166806,\n",
       " -32.693695428321746,\n",
       " -29.538816297262983,\n",
       " -25.032529229040012,\n",
       " -18.97523315495902,\n",
       " -11.157417389647557,\n",
       " -1.3620985182059429,\n",
       " 10.632038010191764,\n",
       " 25.04670499827259,\n",
       " 42.099201062537894,\n",
       " 61.99663027669396,\n",
       " 84.92906736250181,\n",
       " 111.06158604202481,\n",
       " 140.52507505278612,\n",
       " 173.4057764085758,\n",
       " 209.73349424783297,\n",
       " 249.4684405588545,\n",
       " 292.4867067371199,\n",
       " 338.5643778585087,\n",
       " 387.3603402909277]"
      ]
     },
     "execution_count": 6,
     "metadata": {},
     "output_type": "execute_result"
    }
   ],
   "source": [
    "import math\n",
    "\n",
    "two = []\n",
    "x = 3\n",
    "while (x <= 6):\n",
    "    two.append(math.exp(x)*math.cos(x))\n",
    "    x = x + .1\n",
    "    \n",
    "two"
   ]
  },
  {
   "cell_type": "markdown",
   "id": "67eb79d8",
   "metadata": {},
   "source": [
    "### 3. Create a list of value [2, 2<sup>2</sup>/2, 2<sup>3</sup>/3, ... , 2<sup>25</sup>/25]"
   ]
  },
  {
   "cell_type": "code",
   "execution_count": 7,
   "id": "c5d42c21",
   "metadata": {},
   "outputs": [
    {
     "data": {
      "text/plain": [
       "[2.0,\n",
       " 2.0,\n",
       " 2.6666666666666665,\n",
       " 4.0,\n",
       " 6.4,\n",
       " 10.666666666666666,\n",
       " 18.285714285714285,\n",
       " 32.0,\n",
       " 56.888888888888886,\n",
       " 102.4,\n",
       " 186.1818181818182,\n",
       " 341.3333333333333,\n",
       " 630.1538461538462,\n",
       " 1170.2857142857142,\n",
       " 2184.5333333333333,\n",
       " 4096.0,\n",
       " 7710.117647058823,\n",
       " 14563.555555555555,\n",
       " 27594.105263157893,\n",
       " 52428.8,\n",
       " 99864.38095238095,\n",
       " 190650.18181818182,\n",
       " 364722.0869565217,\n",
       " 699050.6666666666,\n",
       " 1342177.28]"
      ]
     },
     "execution_count": 7,
     "metadata": {},
     "output_type": "execute_result"
    }
   ],
   "source": [
    "three = []\n",
    "for i in range(1,26):\n",
    "    three.append(2**i / i)\n",
    "    \n",
    "three"
   ]
  },
  {
   "cell_type": "markdown",
   "id": "ab82d7e1",
   "metadata": {},
   "source": [
    "### 4. Using the list from 1a create...\n",
    "#### a. [a0 -an, a1 - an - 1, ... , an - a0]"
   ]
  },
  {
   "cell_type": "code",
   "execution_count": 8,
   "id": "f2f1c329",
   "metadata": {},
   "outputs": [
    {
     "data": {
      "text/plain": [
       "[-19,\n",
       " -17,\n",
       " -15,\n",
       " -13,\n",
       " -11,\n",
       " -9,\n",
       " -7,\n",
       " -5,\n",
       " -3,\n",
       " -1,\n",
       " 1,\n",
       " 3,\n",
       " 5,\n",
       " 7,\n",
       " 9,\n",
       " 11,\n",
       " 13,\n",
       " 15,\n",
       " 17,\n",
       " 19]"
      ]
     },
     "execution_count": 8,
     "metadata": {},
     "output_type": "execute_result"
    }
   ],
   "source": [
    "four = []\n",
    "for i in range(len(a)):\n",
    "    four.append(a[i] - a[len(a) - i - 1])\n",
    "    \n",
    "four"
   ]
  },
  {
   "cell_type": "markdown",
   "id": "c7369142",
   "metadata": {},
   "source": [
    "#### b. a boolean list where even values are True and odd Values are false:"
   ]
  },
  {
   "cell_type": "code",
   "execution_count": 9,
   "id": "654037e8",
   "metadata": {},
   "outputs": [
    {
     "data": {
      "text/plain": [
       "[False,\n",
       " True,\n",
       " False,\n",
       " True,\n",
       " False,\n",
       " True,\n",
       " False,\n",
       " True,\n",
       " False,\n",
       " True,\n",
       " False,\n",
       " True,\n",
       " False,\n",
       " True,\n",
       " False,\n",
       " True,\n",
       " False,\n",
       " True,\n",
       " False,\n",
       " True]"
      ]
     },
     "execution_count": 9,
     "metadata": {},
     "output_type": "execute_result"
    }
   ],
   "source": [
    "five = []\n",
    "for i in range(len(a)):\n",
    "    five.append(a[i] % 2 == 0)\n",
    "    \n",
    "five"
   ]
  },
  {
   "cell_type": "markdown",
   "id": "53bb9088",
   "metadata": {},
   "source": [
    "### 5. Write a script that will open the file **lorem.txt**. The script should read the file and compute the following:\n",
    "#### a. The number of strings whose lengths are between 1 and 4, 4 and 7 and 8 or greater"
   ]
  },
  {
   "cell_type": "code",
   "execution_count": 10,
   "id": "5a845c80",
   "metadata": {},
   "outputs": [
    {
     "name": "stdout",
     "output_type": "stream",
     "text": [
      "Number of strings length between 1 to 4 characters is 337\n",
      "Number of strings length between 4 to 7 characters is 541\n",
      "Number of strings length greater than 8 characters is 239\n"
     ]
    }
   ],
   "source": [
    "with open(\"/home/elkip/Datasets/lorem.txt\") as f:\n",
    "    lines = f.read()\n",
    "\n",
    "words = list(map(len, lines.split()))\n",
    "\n",
    "print(f\"Number of strings length between 1 to 4 characters is {sum(map(lambda x : x <= 4, words))}\")\n",
    "print(f\"Number of strings length between 4 to 7 characters is {sum(map(lambda x : x >= 4 and x <= 7, words))}\")\n",
    "print(f\"Number of strings length greater than 8 characters is {sum(map(lambda x : x >= 8, words))}\")"
   ]
  },
  {
   "cell_type": "markdown",
   "id": "2e4838d2",
   "metadata": {},
   "source": [
    "#### b. The number of capitalized characters in the file"
   ]
  },
  {
   "cell_type": "code",
   "execution_count": 11,
   "id": "ce4fe2ec",
   "metadata": {},
   "outputs": [
    {
     "name": "stdout",
     "output_type": "stream",
     "text": [
      "The number of capitalized characters: 129\n"
     ]
    }
   ],
   "source": [
    "print(f\"The number of capitalized characters: {sum(1 for c in lines if c.isupper())}\")"
   ]
  }
 ],
 "metadata": {
  "kernelspec": {
   "display_name": "Python 3 (ipykernel)",
   "language": "python",
   "name": "python3"
  },
  "language_info": {
   "codemirror_mode": {
    "name": "ipython",
    "version": 3
   },
   "file_extension": ".py",
   "mimetype": "text/x-python",
   "name": "python",
   "nbconvert_exporter": "python",
   "pygments_lexer": "ipython3",
   "version": "3.9.12"
  }
 },
 "nbformat": 4,
 "nbformat_minor": 5
}
